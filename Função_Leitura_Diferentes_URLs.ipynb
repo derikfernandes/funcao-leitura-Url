{
  "nbformat": 4,
  "nbformat_minor": 0,
  "metadata": {
    "colab": {
      "provenance": []
    },
    "kernelspec": {
      "name": "python3",
      "display_name": "Python 3"
    },
    "language_info": {
      "name": "python"
    }
  },
  "cells": [
    {
      "cell_type": "code",
      "source": [],
      "metadata": {
        "id": "9wrQWSG0CWLN"
      },
      "execution_count": null,
      "outputs": []
    },
    {
      "cell_type": "markdown",
      "source": [
        "**FUNÇÃO - LEITURA URL**\n",
        "\n",
        "Essa função tem por objetivo fazer leitura de vários arquivos CSV e Zipados ao mesmo tempo.\n",
        "\n",
        "Essa função serve para a leitura de arquivos que possuam as seguintes características:\n",
        "\n",
        "*   Arquivo em formato zip\n",
        "*   Arquivo dentro da pasta zip é CSV\n",
        "*   Arquivos para leitura estão dentro de uma mesma Pasta\n",
        "*   Os arquivos se diferenciam um do outro por apenas algumas caracteres sempre dispostas no mesmo local da URL\n",
        "\n",
        "Ex.: Precivo ler dois arquivos zip com csv dentro que estão na mesma pasta porém altera o estado em cada arquivo.\n",
        "\n",
        "Arquivo 1: \n",
        "\n",
        "    leitura_AC.zip\n",
        "    leitura_AC.CSV (Arquivo dentro da pasta ZIP)\n",
        "\n",
        "Arquivo 2:\n",
        "    \n",
        "    leitura_AL.zip\n",
        "    leitura_AL.CSV (Arquivo dentro da pasta ZIP)\n",
        "\n",
        "\n",
        "Somente existe alteração das caracteres referente ao estado (AC/AL)\n",
        "\n",
        "**Funcionalidade:** Muito Importante para leitura de arquivos eleitorais conforme os dispostos no link abaixo\n",
        "\n",
        "BOLETIM DE URNA\n",
        "Resultados - 2022 - Boletim de Urna\n",
        "\n",
        "https://dadosabertos.tse.jus.br/dataset/"
      ],
      "metadata": {
        "id": "40EDfWw9_1J_"
      }
    },
    {
      "cell_type": "code",
      "source": [
        "from google.colab import drive\n",
        "drive.mount('/content/drive')\n",
        "import pandas as pd\n",
        "import zipfile"
      ],
      "metadata": {
        "colab": {
          "base_uri": "https://localhost:8080/"
        },
        "id": "5VSmn0ESCitl",
        "outputId": "0a12068d-8c26-4120-b770-e835d4bfaca7"
      },
      "execution_count": 2,
      "outputs": [
        {
          "output_type": "stream",
          "name": "stdout",
          "text": [
            "Drive already mounted at /content/drive; to attempt to forcibly remount, call drive.mount(\"/content/drive\", force_remount=True).\n"
          ]
        }
      ]
    },
    {
      "cell_type": "code",
      "execution_count": 3,
      "metadata": {
        "id": "GiJwhs1J_0oh"
      },
      "outputs": [],
      "source": [
        "## Criar a FUNÇÃO de Leitura:\n",
        "\n",
        "def leitura(items, URL, a,c,d,e):\n",
        "\n",
        "    zf = []\n",
        "    df = []\n",
        "    df_abt = pd.DataFrame()\n",
        "    \n",
        "    for i in items:\n",
        "        b = (f'{i}')\n",
        "        abcd= a+b+c+d\n",
        "        i = URL+ abcd\n",
        "        zf.append(i)\n",
        "        \n",
        "    for i in items:\n",
        "        b = (f'{i}')\n",
        "        abce= a+b+c+e\n",
        "        i = abce\n",
        "        df.append(i)\n",
        "        \n",
        "    lista= list(range(0,len(items)))\n",
        "    \n",
        "    for d in lista:\n",
        "        ls = zipfile.ZipFile(zf[d])\n",
        "        ABT1 = pd.read_csv(ls.open(df[d]), encoding='latin-1', sep=';')\n",
        "        df_abt = pd.concat([df_abt, ABT1])\n",
        "        \n",
        "    return(df_abt)"
      ]
    },
    {
      "cell_type": "code",
      "source": [
        "# Exemplo de utilização de função:\n",
        "\n",
        "items = ['ES','MG','RJ','SP']\n",
        "URL = '/content/drive/MyDrive/datasets/eleicoes/boletim/'\n",
        "a = 'bweb_1t_'\n",
        "c = '_051020221321.'\n",
        "d = 'zip'\n",
        "e = 'csv'\n",
        "\n",
        "df_abt =  leitura(items, URL, a,c,d,e)"
      ],
      "metadata": {
        "id": "Liy6nvJ8CgV1"
      },
      "execution_count": 4,
      "outputs": []
    }
  ]
}